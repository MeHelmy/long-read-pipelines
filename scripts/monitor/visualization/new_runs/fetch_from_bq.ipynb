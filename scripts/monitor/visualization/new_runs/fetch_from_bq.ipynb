{
 "cells": [
  {
   "cell_type": "code",
   "execution_count": 1,
   "id": "01399bd4",
   "metadata": {
    "ExecuteTime": {
     "end_time": "2021-07-28T16:06:22.476278Z",
     "start_time": "2021-07-28T16:06:20.857522Z"
    }
   },
   "outputs": [],
   "source": [
    "import datetime\n",
    "from datetime import timedelta\n",
    "import concurrent.futures\n",
    "import json\n",
    "import re\n",
    "import logging\n",
    "import os\n",
    "from os import path\n",
    "import sys\n",
    "import warnings\n",
    "from typing import List\n",
    "import pickle\n",
    "\n",
    "import numpy as np\n",
    "import pandas as pd\n",
    "import statistics\n",
    "from math import isnan, pi\n",
    "\n",
    "import google.auth\n",
    "from google.cloud import bigquery"
   ]
  },
  {
   "cell_type": "code",
   "execution_count": 31,
   "id": "76892b8d",
   "metadata": {
    "ExecuteTime": {
     "end_time": "2021-07-28T16:15:14.935304Z",
     "start_time": "2021-07-28T16:15:14.908411Z"
    }
   },
   "outputs": [],
   "source": [
    "class QueryBQToMonitor:\n",
    "    \n",
    "    def __init__(self, billing_project, workflow_ids, days_back_upper_bound, days_back_lower_bound):\n",
    "        \n",
    "        self.logger = logging.getLogger()\n",
    "        self.logger.setLevel(logging.INFO)\n",
    "\n",
    "        h = logging.StreamHandler(sys.stderr)\n",
    "        h.flush = sys.stderr.flush\n",
    "        self.logger.addHandler(h)\n",
    "        \n",
    "        self.billing_project = billing_project\n",
    "        \n",
    "        self.formated_workflow_ids = \"'\"+ \"', '\".join(workflow_ids) + \"'\"\n",
    "        \n",
    "        self.days_back_upper_bound = days_back_upper_bound\n",
    "        self.days_back_lower_bound = days_back_lower_bound\n",
    "        \n",
    "        # Explicitly create a credentials object. This allows you to use the same\n",
    "        # credentials for both the BigQuery and BigQuery Storage clients, avoiding\n",
    "        # unnecessary API calls to fetch duplicate authentication tokens.\n",
    "        credentials, project_id = google.auth.default(\n",
    "            scopes=[\"https://www.googleapis.com/auth/cloud-platform\"]\n",
    "        )\n",
    "\n",
    "        # Make clients.\n",
    "        self.bq_client = bigquery.Client(credentials=credentials, project=self.billing_project )\n",
    "        \n",
    "    def query(self):\n",
    "        self._get_runtime_and_metadata()\n",
    "        self._get_metrics()\n",
    "    \n",
    "    def _get_runtime_and_metadata(self):\n",
    "        \n",
    "        self._fetch_runtime()\n",
    "        self._fetch_metadata()\n",
    "        \n",
    "        runtime_nrow, runtime_ncol = self.runtime.shape\n",
    "        meta_nrow, meta_ncol = self.metadata.shape\n",
    "        \n",
    "        # basic QC\n",
    "        if (meta_nrow != runtime_nrow):\n",
    "            self.logger.warning('Metadata and runtime number of rows are different. You might want to check.')\n",
    "        summary_msg = f\"Nrows of runtime: {runtime_nrow}, Ncols of runtime: {runtime_ncol}, \\nNrows of meta: {meta_nrow}, Ncols of meta: {meta_ncol}\"\n",
    "        self.logger.info(summary_msg)\n",
    "        \n",
    "        # merge the two\n",
    "        self.metadata_runtime = pd.merge(self.metadata, self.runtime, left_on='meta_instance_name', right_on='runtime_instance_name')\n",
    "        print()\n",
    "        self.metadata_runtime.runtime_task_call_name.describe()\n",
    "\n",
    "    def _fetch_runtime(self):\n",
    "        # query runtime data\n",
    "        runtime_sql = f\"\"\"\n",
    "\n",
    "        SELECT\n",
    "\n",
    "          runtime.attempt AS runtime_attempt,\n",
    "          runtime.cpu_count AS runtime_cpu_count,\n",
    "          runtime.cpu_platform AS runtime_cpu_platform,\n",
    "          runtime.disk_mounts AS runtime_disk_mounts,\n",
    "          runtime.disk_total_gb AS runtime_disk_total_gb,\n",
    "          runtime.instance_id AS runtime_instance_id,\n",
    "          runtime.instance_name AS runtime_instance_name,\n",
    "          runtime.mem_total_gb AS runtime_mem_total_gb,\n",
    "          runtime.preemptible AS runtime_preemptible,\n",
    "          runtime.project_id AS runtime_project_id,\n",
    "          runtime.shard AS runtime_shard,\n",
    "          runtime.start_time AS runtime_start_time,\n",
    "          runtime.task_call_name AS runtime_task_call_name,\n",
    "          runtime.workflow_id AS runtime_workflow_id,\n",
    "          runtime.zone AS runtime_zone\n",
    "\n",
    "        FROM\n",
    "          `{self.billing_project}.cromwell_monitoring.runtime`  runtime \n",
    "\n",
    "        WHERE\n",
    "              DATE(runtime.start_time) >= DATE_SUB(CURRENT_DATE(), INTERVAL {self.days_back_upper_bound} DAY)\n",
    "          AND DATE(runtime.start_time) <= DATE_SUB(CURRENT_DATE(), INTERVAL {self.days_back_lower_bound} DAY)\n",
    "\n",
    "          AND runtime.workflow_id IN ({self.formated_workflow_ids})    \n",
    "        \"\"\"\n",
    "        self.runtime = self.bq_client.query(query = runtime_sql).to_dataframe()\n",
    "        self.logger.info(\"Fetched runtime table.\")\n",
    "    \n",
    "    def _fetch_metadata(self):\n",
    "        # query metadata table\n",
    "        metadata_sql = f\"\"\"\n",
    "\n",
    "        SELECT\n",
    "          metadata.attempt AS meta_attempt,\n",
    "          metadata.cpu_count AS meta_cpu,\n",
    "          metadata.disk_mounts AS meta_disk_mounts,\n",
    "          metadata.disk_total_gb AS meta_disk_total_gb,\n",
    "          metadata.disk_types AS meta_disk_types,\n",
    "          metadata.docker_image AS meta_docker_image,\n",
    "          metadata.end_time AS meta_end_time,\n",
    "          metadata.execution_status AS meta_execution_status,\n",
    "          metadata.inputs AS meta_inputs,\n",
    "          metadata.instance_name AS meta_instance_name,\n",
    "          metadata.mem_total_gb AS meta_mem_total_gb,\n",
    "          metadata.preemptible AS meta_preemptible,\n",
    "          metadata.project_id AS meta_project_id,\n",
    "          metadata.shard AS meta_shard,\n",
    "          metadata.start_time AS meta_start_time,\n",
    "          metadata.task_call_name AS meta_task_call_name,\n",
    "          metadata.workflow_id AS meta_workflow_id,\n",
    "          metadata.workflow_name AS meta_workflow_name,\n",
    "          metadata.zone AS meta_zone,\n",
    "          TIMESTAMP_DIFF(metadata.end_time, metadata.start_time, SECOND) meta_duration_sec\n",
    "\n",
    "        FROM\n",
    "          `{self.billing_project}.cromwell_monitoring.metadata` metadata\n",
    "\n",
    "        WHERE\n",
    "              DATE(metadata.start_time) >= DATE_SUB(CURRENT_DATE(), INTERVAL {self.days_back_upper_bound} DAY)\n",
    "          AND DATE(metadata.start_time) <= DATE_SUB(CURRENT_DATE(), INTERVAL {self.days_back_lower_bound} DAY)\n",
    "\n",
    "          AND metadata.workflow_id IN ({self.formated_workflow_ids})    \n",
    "        \"\"\"\n",
    "        self.metadata = self.bq_client.query(query = metadata_sql).to_dataframe()\n",
    "        self.logger.info(\"Fetched metadata table\")\n",
    "            \n",
    "    def _get_metrics(self):\n",
    "        \n",
    "        b = datetime.datetime.now()\n",
    "        start_time = b.strftime(\"%H:%M:%S\")\n",
    "        self.logger.info(f\"Started querying metrics on {start_time}.\")\n",
    "        # provision jobs\n",
    "        instance_ids = list(self.metadata_runtime.runtime_instance_id.unique())\n",
    "        n = 8 # magic number based on experience\n",
    "        cap = len(instance_ids) // 8\n",
    "\n",
    "        ids_pool = dict()\n",
    "        jobs_pool = dict()\n",
    "        with concurrent.futures.ThreadPoolExecutor() as executor:\n",
    "\n",
    "            for i in range(n+1):\n",
    "                start = i * cap\n",
    "                if (i != n):\n",
    "                    end = (i+1) * cap - 1\n",
    "                else:\n",
    "                    end = len(instance_ids)\n",
    "                ids_pool[i] = instance_ids[start:end]\n",
    "                jobs_pool[i] = executor.submit(self._fetch_metrics_on_vms_batch, ids_pool[i])\n",
    "\n",
    "\n",
    "        results_pool = dict()\n",
    "        for i in range(n+1):\n",
    "            results_pool[i] = jobs_pool[i].result()\n",
    "        \n",
    "        \n",
    "        f = datetime.datetime.now()\n",
    "        finish_time = f.strftime(\"%H:%M:%S\")\n",
    "        pf = f - b\n",
    "        s = pf.seconds\n",
    "        hours, remainder = divmod(s, 3600)\n",
    "        minutes, seconds = divmod(remainder, 60)\n",
    "        elapse = '{:02}:{:02}:{:02}'.format(int(hours), int(minutes), int(seconds))\n",
    "        self.logger.info(f\"Finished on {finish_time}.\")\n",
    "        self.logger.info(f\"Totalling {elapse}.\")\n",
    "       \n",
    "        \n",
    "        l = list(results_pool.values())            \n",
    "        self.metrics = pd.concat(l)\n",
    "        \n",
    "        # QC\n",
    "        retries = 0\n",
    "        d = set(self.metadata_runtime.runtime_instance_id.unique()) - set(self.metrics.metrics_instance_id.unique())\n",
    "        while( (not d) and 10>retries ):\n",
    "            self.logger.info(f\"Retrieving metrics info on leftovers: {d}\")\n",
    "            left_over = self._fetch_metrics_on_vms_batch(d)\n",
    "            if (not left_over.empty):\n",
    "                self.metrics = pd.concat([self.metrics, left_over], axis=0)\n",
    "            d = set(self.metadata_runtime.runtime_instance_id.unique()) - set(self.metrics.metrics_instance_id.unique())\n",
    "            retries += 1\n",
    "        if (0!=d):\n",
    "            self.logger.warning(f\"Not all VMs provisioned have their metrics sent over ({d} didn't).\")\n",
    "\n",
    "    def _fetch_metrics_on_vms_batch(self, vm_instance_ids):\n",
    "        if len(vm_instance_ids) == 0:\n",
    "            return pd.DataFrame()\n",
    "        ids_string = ', '.join(map(str, vm_instance_ids))\n",
    "        metrics_sql = f\"\"\"\n",
    "\n",
    "        SELECT\n",
    "\n",
    "          metrics.cpu_used_percent AS metrics_cpu_used_percent,\n",
    "          metrics.disk_read_iops AS metrics_disk_read_iops,\n",
    "          metrics.disk_used_gb AS metrics_disk_used_gb,\n",
    "          metrics.disk_write_iops AS metrics_disk_write_iops,\n",
    "          metrics.instance_id AS metrics_instance_id,\n",
    "          metrics.mem_used_gb AS metrics_mem_used_gb,\n",
    "          metrics.timestamp AS metrics_timestamp\n",
    "\n",
    "        FROM\n",
    "          `{self.billing_project}.cromwell_monitoring.metrics`  metrics\n",
    "\n",
    "        WHERE\n",
    "\n",
    "              DATE(metrics.timestamp) >= DATE_SUB(CURRENT_DATE(), INTERVAL {self.days_back_upper_bound} DAY)\n",
    "          AND DATE(metrics.timestamp) <= DATE_SUB(CURRENT_DATE(), INTERVAL {self.days_back_lower_bound} DAY)\n",
    "          AND metrics.instance_id IN ({ids_string})\n",
    "\n",
    "        \"\"\"\n",
    "        return self.bq_client.query(metrics_sql).to_dataframe()\n",
    "    \n",
    "    def to_pickle(file_name: str):\n",
    "        pickle.dump()\n",
    "    \n",
    "    def from_pickle(file_name: str):\n",
    "        pass"
   ]
  },
  {
   "cell_type": "code",
   "execution_count": 3,
   "id": "169482a5",
   "metadata": {
    "ExecuteTime": {
     "end_time": "2021-07-28T16:28:31.354395Z",
     "start_time": "2021-07-28T16:28:30.324259Z"
    }
   },
   "outputs": [
    {
     "name": "stdout",
     "output_type": "stream",
     "text": [
      "dict_keys(['token', 'expiry', '_quota_project_id', '_scopes', '_default_scopes', '_refresh_token', '_id_token', '_token_uri', '_client_id', '_client_secret', '_rapt_token'])\n"
     ]
    }
   ],
   "source": [
    "credentials, project_id = google.auth.default()\n",
    "print(credentials.__dict__.keys())"
   ]
  },
  {
   "cell_type": "code",
   "execution_count": 4,
   "id": "02654a1b",
   "metadata": {
    "ExecuteTime": {
     "end_time": "2021-07-28T16:29:16.204545Z",
     "start_time": "2021-07-28T16:29:16.201293Z"
    }
   },
   "outputs": [],
   "source": [
    "days_back_upper_bound = 5\n",
    "days_back_lower_bound = 0\n",
    "billing_project = 'broad-dsp-lrma'"
   ]
  },
  {
   "cell_type": "code",
   "execution_count": 13,
   "id": "be5e53d9",
   "metadata": {},
   "outputs": [],
   "source": [
    "def query_for_a_run(workflow_ids: List[str],\n",
    "                    picket_files_prefix: str) -> QueryBQToMonitor:\n",
    "    \n",
    "    clean_workflow_ids = [wid.strip('\"') for wid in workflow_ids]\n",
    "    print(clean_workflow_ids)\n",
    "    \n",
    "    monitoring_dataset = QueryBQToMonitor(billing_project,\n",
    "                                          clean_workflow_ids,\n",
    "                                          days_back_upper_bound,\n",
    "                                          days_back_lower_bound)\n",
    "    monitoring_dataset.query()\n",
    "\n",
    "    pickle.dump(monitoring_dataset.runtime,\n",
    "                open( f\"{picket_files_prefix}.runtime.pickle\", \"wb\" ) )\n",
    "    pickle.dump(monitoring_dataset.metadata,\n",
    "                open( f\"{picket_files_prefix}.metadata.pickle\", \"wb\" ) )\n",
    "    pickle.dump(monitoring_dataset.metadata_runtime,\n",
    "                open( f\"{picket_files_prefix}.metadata_runtime.pickle\", \"wb\" ) )\n",
    "    pickle.dump(monitoring_dataset.metrics,\n",
    "                open( f\"{picket_files_prefix}.metrics.pickle\", \"wb\" ) )"
   ]
  },
  {
   "cell_type": "code",
   "execution_count": null,
   "id": "62ae10e3",
   "metadata": {},
   "outputs": [],
   "source": []
  },
  {
   "cell_type": "code",
   "execution_count": null,
   "id": "afc8abde",
   "metadata": {},
   "outputs": [],
   "source": []
  },
  {
   "cell_type": "markdown",
   "id": "48c776df",
   "metadata": {},
   "source": [
    "# CCS_small"
   ]
  },
  {
   "cell_type": "code",
   "execution_count": 8,
   "id": "7cf8864d",
   "metadata": {},
   "outputs": [
    {
     "name": "stdout",
     "output_type": "stream",
     "text": [
      "['4b0ed486-076a-4fd6-ae4d-5919fc73d212', '4dec745a-577e-4fde-a897-6c13df261a34', 'c51669b8-a137-4890-98ae-fd061cb140b0']\n"
     ]
    }
   ],
   "source": [
    "ccs_small_WIDs = list()\n",
    "with open('slim_metadata/CCS_small.workflow-ids.all.txt') as f:\n",
    "    ccs_small_WIDs= [l.strip() for l in f.readlines()]\n",
    "print(ccs_small_WIDs)"
   ]
  },
  {
   "cell_type": "code",
   "execution_count": 14,
   "id": "f52c04c3",
   "metadata": {},
   "outputs": [
    {
     "name": "stdout",
     "output_type": "stream",
     "text": [
      "['4b0ed486-076a-4fd6-ae4d-5919fc73d212', '4dec745a-577e-4fde-a897-6c13df261a34', 'c51669b8-a137-4890-98ae-fd061cb140b0']\n"
     ]
    },
    {
     "name": "stderr",
     "output_type": "stream",
     "text": [
      "Fetched runtime table.\n",
      "Fetched runtime table.\n",
      "Fetched runtime table.\n",
      "Fetched metadata table\n",
      "Fetched metadata table\n",
      "Fetched metadata table\n",
      "Metadata and runtime number of rows are different. You might want to check.\n",
      "Metadata and runtime number of rows are different. You might want to check.\n",
      "Metadata and runtime number of rows are different. You might want to check.\n",
      "Nrows of runtime: 222, Ncols of runtime: 15, \n",
      "Nrows of meta: 546, Ncols of meta: 20\n",
      "Nrows of runtime: 222, Ncols of runtime: 15, \n",
      "Nrows of meta: 546, Ncols of meta: 20\n",
      "Nrows of runtime: 222, Ncols of runtime: 15, \n",
      "Nrows of meta: 546, Ncols of meta: 20\n",
      "Started querying metrics on 20:54:24.\n",
      "Started querying metrics on 20:54:24.\n",
      "Started querying metrics on 20:54:24.\n"
     ]
    },
    {
     "name": "stdout",
     "output_type": "stream",
     "text": [
      "\n"
     ]
    },
    {
     "name": "stderr",
     "output_type": "stream",
     "text": [
      "Finished on 20:54:54.\n",
      "Finished on 20:54:54.\n",
      "Finished on 20:54:54.\n",
      "Totalling 00:00:30.\n",
      "Totalling 00:00:30.\n",
      "Totalling 00:00:30.\n",
      "Not all VMs provisioned have their metrics sent over ({3932671187005565248, 3307748995851422918, 3457685651319753958, 5644029351665142443, 8520057775120803724, 6085224541387294674, 7397400968018593300, 8126928638149987893} didn't).\n",
      "Not all VMs provisioned have their metrics sent over ({3932671187005565248, 3307748995851422918, 3457685651319753958, 5644029351665142443, 8520057775120803724, 6085224541387294674, 7397400968018593300, 8126928638149987893} didn't).\n",
      "Not all VMs provisioned have their metrics sent over ({3932671187005565248, 3307748995851422918, 3457685651319753958, 5644029351665142443, 8520057775120803724, 6085224541387294674, 7397400968018593300, 8126928638149987893} didn't).\n"
     ]
    }
   ],
   "source": [
    "query_for_a_run(ccs_small_WIDs, 'CCS_small')"
   ]
  },
  {
   "cell_type": "markdown",
   "id": "2d91232f",
   "metadata": {},
   "source": [
    "# ONT_small"
   ]
  },
  {
   "cell_type": "code",
   "execution_count": 29,
   "id": "3402c80a",
   "metadata": {},
   "outputs": [
    {
     "name": "stdout",
     "output_type": "stream",
     "text": [
      "['0413c5c9-e608-425e-af6b-412edec5d17f', 'df6cdae5-0acd-4909-af29-2558a6acd39b', 'eea12b44-506b-49a1-b17d-8b3e1f938e33']\n"
     ]
    }
   ],
   "source": [
    "ont_small_WIDs = list()\n",
    "with open('slim_metadata/ONT_small.workflow-ids.all.txt') as f:\n",
    "    ont_small_WIDs= [l.strip() for l in f.readlines()]\n",
    "print(ont_small_WIDs)"
   ]
  },
  {
   "cell_type": "code",
   "execution_count": 32,
   "id": "e22e8ef3",
   "metadata": {},
   "outputs": [
    {
     "name": "stdout",
     "output_type": "stream",
     "text": [
      "['0413c5c9-e608-425e-af6b-412edec5d17f', 'df6cdae5-0acd-4909-af29-2558a6acd39b', 'eea12b44-506b-49a1-b17d-8b3e1f938e33']\n"
     ]
    },
    {
     "name": "stderr",
     "output_type": "stream",
     "text": [
      "Fetched runtime table.\n",
      "Fetched runtime table.\n",
      "Fetched runtime table.\n",
      "Fetched runtime table.\n",
      "Fetched runtime table.\n",
      "Fetched runtime table.\n",
      "Fetched runtime table.\n",
      "Fetched runtime table.\n",
      "Fetched runtime table.\n",
      "Fetched runtime table.\n",
      "Fetched runtime table.\n",
      "Fetched metadata table\n",
      "Fetched metadata table\n",
      "Fetched metadata table\n",
      "Fetched metadata table\n",
      "Fetched metadata table\n",
      "Fetched metadata table\n",
      "Fetched metadata table\n",
      "Fetched metadata table\n",
      "Fetched metadata table\n",
      "Fetched metadata table\n",
      "Fetched metadata table\n",
      "Metadata and runtime number of rows are different. You might want to check.\n",
      "Metadata and runtime number of rows are different. You might want to check.\n",
      "Metadata and runtime number of rows are different. You might want to check.\n",
      "Metadata and runtime number of rows are different. You might want to check.\n",
      "Metadata and runtime number of rows are different. You might want to check.\n",
      "Metadata and runtime number of rows are different. You might want to check.\n",
      "Metadata and runtime number of rows are different. You might want to check.\n",
      "Metadata and runtime number of rows are different. You might want to check.\n",
      "Metadata and runtime number of rows are different. You might want to check.\n",
      "Metadata and runtime number of rows are different. You might want to check.\n",
      "Metadata and runtime number of rows are different. You might want to check.\n",
      "Nrows of runtime: 248, Ncols of runtime: 15, \n",
      "Nrows of meta: 593, Ncols of meta: 20\n",
      "Nrows of runtime: 248, Ncols of runtime: 15, \n",
      "Nrows of meta: 593, Ncols of meta: 20\n",
      "Nrows of runtime: 248, Ncols of runtime: 15, \n",
      "Nrows of meta: 593, Ncols of meta: 20\n",
      "Nrows of runtime: 248, Ncols of runtime: 15, \n",
      "Nrows of meta: 593, Ncols of meta: 20\n",
      "Nrows of runtime: 248, Ncols of runtime: 15, \n",
      "Nrows of meta: 593, Ncols of meta: 20\n",
      "Nrows of runtime: 248, Ncols of runtime: 15, \n",
      "Nrows of meta: 593, Ncols of meta: 20\n",
      "Nrows of runtime: 248, Ncols of runtime: 15, \n",
      "Nrows of meta: 593, Ncols of meta: 20\n",
      "Nrows of runtime: 248, Ncols of runtime: 15, \n",
      "Nrows of meta: 593, Ncols of meta: 20\n",
      "Nrows of runtime: 248, Ncols of runtime: 15, \n",
      "Nrows of meta: 593, Ncols of meta: 20\n",
      "Nrows of runtime: 248, Ncols of runtime: 15, \n",
      "Nrows of meta: 593, Ncols of meta: 20\n",
      "Nrows of runtime: 248, Ncols of runtime: 15, \n",
      "Nrows of meta: 593, Ncols of meta: 20\n",
      "Started querying metrics on 21:13:18.\n",
      "Started querying metrics on 21:13:18.\n",
      "Started querying metrics on 21:13:18.\n",
      "Started querying metrics on 21:13:18.\n",
      "Started querying metrics on 21:13:18.\n",
      "Started querying metrics on 21:13:18.\n",
      "Started querying metrics on 21:13:18.\n",
      "Started querying metrics on 21:13:18.\n",
      "Started querying metrics on 21:13:18.\n",
      "Started querying metrics on 21:13:18.\n",
      "Started querying metrics on 21:13:18.\n"
     ]
    },
    {
     "name": "stdout",
     "output_type": "stream",
     "text": [
      "\n"
     ]
    },
    {
     "name": "stderr",
     "output_type": "stream",
     "text": [
      "Finished on 21:13:51.\n",
      "Finished on 21:13:51.\n",
      "Finished on 21:13:51.\n",
      "Finished on 21:13:51.\n",
      "Finished on 21:13:51.\n",
      "Finished on 21:13:51.\n",
      "Finished on 21:13:51.\n",
      "Finished on 21:13:51.\n",
      "Finished on 21:13:51.\n",
      "Finished on 21:13:51.\n",
      "Finished on 21:13:51.\n",
      "Totalling 00:00:32.\n",
      "Totalling 00:00:32.\n",
      "Totalling 00:00:32.\n",
      "Totalling 00:00:32.\n",
      "Totalling 00:00:32.\n",
      "Totalling 00:00:32.\n",
      "Totalling 00:00:32.\n",
      "Totalling 00:00:32.\n",
      "Totalling 00:00:32.\n",
      "Totalling 00:00:32.\n",
      "Totalling 00:00:32.\n",
      "Not all VMs provisioned have their metrics sent over ({5286474844691586146, 3758594032194882051, 7605131390616668516, 4919410464080857804, 8666979075784534543, 7738783716236922833, 1117134543235625654, 423902065469775355} didn't).\n",
      "Not all VMs provisioned have their metrics sent over ({5286474844691586146, 3758594032194882051, 7605131390616668516, 4919410464080857804, 8666979075784534543, 7738783716236922833, 1117134543235625654, 423902065469775355} didn't).\n",
      "Not all VMs provisioned have their metrics sent over ({5286474844691586146, 3758594032194882051, 7605131390616668516, 4919410464080857804, 8666979075784534543, 7738783716236922833, 1117134543235625654, 423902065469775355} didn't).\n",
      "Not all VMs provisioned have their metrics sent over ({5286474844691586146, 3758594032194882051, 7605131390616668516, 4919410464080857804, 8666979075784534543, 7738783716236922833, 1117134543235625654, 423902065469775355} didn't).\n",
      "Not all VMs provisioned have their metrics sent over ({5286474844691586146, 3758594032194882051, 7605131390616668516, 4919410464080857804, 8666979075784534543, 7738783716236922833, 1117134543235625654, 423902065469775355} didn't).\n",
      "Not all VMs provisioned have their metrics sent over ({5286474844691586146, 3758594032194882051, 7605131390616668516, 4919410464080857804, 8666979075784534543, 7738783716236922833, 1117134543235625654, 423902065469775355} didn't).\n",
      "Not all VMs provisioned have their metrics sent over ({5286474844691586146, 3758594032194882051, 7605131390616668516, 4919410464080857804, 8666979075784534543, 7738783716236922833, 1117134543235625654, 423902065469775355} didn't).\n",
      "Not all VMs provisioned have their metrics sent over ({5286474844691586146, 3758594032194882051, 7605131390616668516, 4919410464080857804, 8666979075784534543, 7738783716236922833, 1117134543235625654, 423902065469775355} didn't).\n",
      "Not all VMs provisioned have their metrics sent over ({5286474844691586146, 3758594032194882051, 7605131390616668516, 4919410464080857804, 8666979075784534543, 7738783716236922833, 1117134543235625654, 423902065469775355} didn't).\n",
      "Not all VMs provisioned have their metrics sent over ({5286474844691586146, 3758594032194882051, 7605131390616668516, 4919410464080857804, 8666979075784534543, 7738783716236922833, 1117134543235625654, 423902065469775355} didn't).\n",
      "Not all VMs provisioned have their metrics sent over ({5286474844691586146, 3758594032194882051, 7605131390616668516, 4919410464080857804, 8666979075784534543, 7738783716236922833, 1117134543235625654, 423902065469775355} didn't).\n"
     ]
    }
   ],
   "source": [
    "query_for_a_run(ont_small_WIDs, 'ONT_small')"
   ]
  },
  {
   "cell_type": "code",
   "execution_count": null,
   "id": "2adcbd53",
   "metadata": {},
   "outputs": [],
   "source": []
  },
  {
   "cell_type": "markdown",
   "id": "e1baa736",
   "metadata": {},
   "source": [
    "# ONT_large"
   ]
  },
  {
   "cell_type": "code",
   "execution_count": 20,
   "id": "451be76b",
   "metadata": {},
   "outputs": [
    {
     "name": "stdout",
     "output_type": "stream",
     "text": [
      "['20383457-6d38-43e5-adf3-33fabe800ae4', '841b09cc-250d-40de-b5ed-440585dbec0e', 'e1b4c89c-d8dc-4f87-a3e0-8539a39fe99e']\n"
     ]
    }
   ],
   "source": [
    "ont_large_WIDs = list()\n",
    "with open('slim_metadata/ONT_large.workflow-ids.all.txt') as f:\n",
    "    ont_large_WIDs= [l.strip() for l in f.readlines()]\n",
    "print(ont_large_WIDs)"
   ]
  },
  {
   "cell_type": "code",
   "execution_count": 21,
   "id": "14c7b216",
   "metadata": {},
   "outputs": [
    {
     "name": "stdout",
     "output_type": "stream",
     "text": [
      "['20383457-6d38-43e5-adf3-33fabe800ae4', '841b09cc-250d-40de-b5ed-440585dbec0e', 'e1b4c89c-d8dc-4f87-a3e0-8539a39fe99e']\n"
     ]
    },
    {
     "name": "stderr",
     "output_type": "stream",
     "text": [
      "Fetched runtime table.\n",
      "Fetched runtime table.\n",
      "Fetched runtime table.\n",
      "Fetched runtime table.\n",
      "Fetched runtime table.\n",
      "Fetched runtime table.\n",
      "Fetched metadata table\n",
      "Fetched metadata table\n",
      "Fetched metadata table\n",
      "Fetched metadata table\n",
      "Fetched metadata table\n",
      "Fetched metadata table\n",
      "Metadata and runtime number of rows are different. You might want to check.\n",
      "Metadata and runtime number of rows are different. You might want to check.\n",
      "Metadata and runtime number of rows are different. You might want to check.\n",
      "Metadata and runtime number of rows are different. You might want to check.\n",
      "Metadata and runtime number of rows are different. You might want to check.\n",
      "Metadata and runtime number of rows are different. You might want to check.\n",
      "Nrows of runtime: 250, Ncols of runtime: 15, \n",
      "Nrows of meta: 596, Ncols of meta: 20\n",
      "Nrows of runtime: 250, Ncols of runtime: 15, \n",
      "Nrows of meta: 596, Ncols of meta: 20\n",
      "Nrows of runtime: 250, Ncols of runtime: 15, \n",
      "Nrows of meta: 596, Ncols of meta: 20\n",
      "Nrows of runtime: 250, Ncols of runtime: 15, \n",
      "Nrows of meta: 596, Ncols of meta: 20\n",
      "Nrows of runtime: 250, Ncols of runtime: 15, \n",
      "Nrows of meta: 596, Ncols of meta: 20\n",
      "Nrows of runtime: 250, Ncols of runtime: 15, \n",
      "Nrows of meta: 596, Ncols of meta: 20\n",
      "Started querying metrics on 21:04:19.\n",
      "Started querying metrics on 21:04:19.\n",
      "Started querying metrics on 21:04:19.\n",
      "Started querying metrics on 21:04:19.\n",
      "Started querying metrics on 21:04:19.\n",
      "Started querying metrics on 21:04:19.\n"
     ]
    },
    {
     "name": "stdout",
     "output_type": "stream",
     "text": [
      "\n"
     ]
    },
    {
     "name": "stderr",
     "output_type": "stream",
     "text": [
      "Finished on 21:05:28.\n",
      "Finished on 21:05:28.\n",
      "Finished on 21:05:28.\n",
      "Finished on 21:05:28.\n",
      "Finished on 21:05:28.\n",
      "Finished on 21:05:28.\n",
      "Totalling 00:01:08.\n",
      "Totalling 00:01:08.\n",
      "Totalling 00:01:08.\n",
      "Totalling 00:01:08.\n",
      "Totalling 00:01:08.\n",
      "Totalling 00:01:08.\n",
      "Not all VMs provisioned have their metrics sent over ({6204335748420771294, 816336637509299590, 5183444931517151784, 3220567095387396395, 1401359785074399419, 5878927564124234380, 5193676067602401398, 722571883620377403} didn't).\n",
      "Not all VMs provisioned have their metrics sent over ({6204335748420771294, 816336637509299590, 5183444931517151784, 3220567095387396395, 1401359785074399419, 5878927564124234380, 5193676067602401398, 722571883620377403} didn't).\n",
      "Not all VMs provisioned have their metrics sent over ({6204335748420771294, 816336637509299590, 5183444931517151784, 3220567095387396395, 1401359785074399419, 5878927564124234380, 5193676067602401398, 722571883620377403} didn't).\n",
      "Not all VMs provisioned have their metrics sent over ({6204335748420771294, 816336637509299590, 5183444931517151784, 3220567095387396395, 1401359785074399419, 5878927564124234380, 5193676067602401398, 722571883620377403} didn't).\n",
      "Not all VMs provisioned have their metrics sent over ({6204335748420771294, 816336637509299590, 5183444931517151784, 3220567095387396395, 1401359785074399419, 5878927564124234380, 5193676067602401398, 722571883620377403} didn't).\n",
      "Not all VMs provisioned have their metrics sent over ({6204335748420771294, 816336637509299590, 5183444931517151784, 3220567095387396395, 1401359785074399419, 5878927564124234380, 5193676067602401398, 722571883620377403} didn't).\n"
     ]
    }
   ],
   "source": [
    "query_for_a_run(ont_large_WIDs, 'ONT_large')"
   ]
  },
  {
   "cell_type": "markdown",
   "id": "02d2c228",
   "metadata": {},
   "source": [
    "# CCS_large_96G_16cores"
   ]
  },
  {
   "cell_type": "code",
   "execution_count": 18,
   "id": "a66c2be6",
   "metadata": {},
   "outputs": [
    {
     "name": "stdout",
     "output_type": "stream",
     "text": [
      "['18378026-20e0-40a2-a824-341e7db9017c', '6eaf152e-d48a-4f89-9b56-de0604654fbe', 'cf701424-8d5c-4acc-8e2a-69d89aba0597']\n"
     ]
    }
   ],
   "source": [
    "ccs_large_WIDs = list()\n",
    "with open('slim_metadata/CCS_large_96G_16cores.workflow-ids.all.txt') as f:\n",
    "    ccs_large_WIDs= [l.strip() for l in f.readlines()]\n",
    "print(ccs_large_WIDs)"
   ]
  },
  {
   "cell_type": "code",
   "execution_count": 19,
   "id": "e91a2a95",
   "metadata": {},
   "outputs": [
    {
     "name": "stdout",
     "output_type": "stream",
     "text": [
      "['18378026-20e0-40a2-a824-341e7db9017c', '6eaf152e-d48a-4f89-9b56-de0604654fbe', 'cf701424-8d5c-4acc-8e2a-69d89aba0597']\n"
     ]
    },
    {
     "name": "stderr",
     "output_type": "stream",
     "text": [
      "Fetched runtime table.\n",
      "Fetched runtime table.\n",
      "Fetched runtime table.\n",
      "Fetched runtime table.\n",
      "Fetched runtime table.\n",
      "Fetched metadata table\n",
      "Fetched metadata table\n",
      "Fetched metadata table\n",
      "Fetched metadata table\n",
      "Fetched metadata table\n",
      "Metadata and runtime number of rows are different. You might want to check.\n",
      "Metadata and runtime number of rows are different. You might want to check.\n",
      "Metadata and runtime number of rows are different. You might want to check.\n",
      "Metadata and runtime number of rows are different. You might want to check.\n",
      "Metadata and runtime number of rows are different. You might want to check.\n",
      "Nrows of runtime: 210, Ncols of runtime: 15, \n",
      "Nrows of meta: 507, Ncols of meta: 20\n",
      "Nrows of runtime: 210, Ncols of runtime: 15, \n",
      "Nrows of meta: 507, Ncols of meta: 20\n",
      "Nrows of runtime: 210, Ncols of runtime: 15, \n",
      "Nrows of meta: 507, Ncols of meta: 20\n",
      "Nrows of runtime: 210, Ncols of runtime: 15, \n",
      "Nrows of meta: 507, Ncols of meta: 20\n",
      "Nrows of runtime: 210, Ncols of runtime: 15, \n",
      "Nrows of meta: 507, Ncols of meta: 20\n",
      "Started querying metrics on 21:01:29.\n",
      "Started querying metrics on 21:01:29.\n",
      "Started querying metrics on 21:01:29.\n",
      "Started querying metrics on 21:01:29.\n",
      "Started querying metrics on 21:01:29.\n"
     ]
    },
    {
     "name": "stdout",
     "output_type": "stream",
     "text": [
      "\n"
     ]
    },
    {
     "name": "stderr",
     "output_type": "stream",
     "text": [
      "Finished on 21:02:01.\n",
      "Finished on 21:02:01.\n",
      "Finished on 21:02:01.\n",
      "Finished on 21:02:01.\n",
      "Finished on 21:02:01.\n",
      "Totalling 00:00:32.\n",
      "Totalling 00:00:32.\n",
      "Totalling 00:00:32.\n",
      "Totalling 00:00:32.\n",
      "Totalling 00:00:32.\n",
      "Not all VMs provisioned have their metrics sent over ({5808648056482051204, 6631395865764301030, 3605648494437608553, 4258296434654197581, 344380703034587316, 1110783325986895414, 3745631825190463990, 7662976353756526134} didn't).\n",
      "Not all VMs provisioned have their metrics sent over ({5808648056482051204, 6631395865764301030, 3605648494437608553, 4258296434654197581, 344380703034587316, 1110783325986895414, 3745631825190463990, 7662976353756526134} didn't).\n",
      "Not all VMs provisioned have their metrics sent over ({5808648056482051204, 6631395865764301030, 3605648494437608553, 4258296434654197581, 344380703034587316, 1110783325986895414, 3745631825190463990, 7662976353756526134} didn't).\n",
      "Not all VMs provisioned have their metrics sent over ({5808648056482051204, 6631395865764301030, 3605648494437608553, 4258296434654197581, 344380703034587316, 1110783325986895414, 3745631825190463990, 7662976353756526134} didn't).\n",
      "Not all VMs provisioned have their metrics sent over ({5808648056482051204, 6631395865764301030, 3605648494437608553, 4258296434654197581, 344380703034587316, 1110783325986895414, 3745631825190463990, 7662976353756526134} didn't).\n"
     ]
    }
   ],
   "source": [
    "query_for_a_run(ccs_large_WIDs, 'CCS_large')"
   ]
  },
  {
   "cell_type": "markdown",
   "id": "c10bc34c",
   "metadata": {},
   "source": [
    "# ASM_small_final"
   ]
  },
  {
   "cell_type": "code",
   "execution_count": 22,
   "id": "c33d77bb",
   "metadata": {},
   "outputs": [
    {
     "name": "stdout",
     "output_type": "stream",
     "text": [
      "['358ae0a1-b76b-44ca-9714-64806724e868', 'c1cc1bde-4e34-49be-ad7c-ad2806887cc8', 'df3636ef-5815-45fa-aac6-4ba79c2a1c03']\n"
     ]
    }
   ],
   "source": [
    "asm_small_WIDs = list()\n",
    "with open('slim_metadata/ASM_small_final.workflow-ids.all.txt') as f:\n",
    "    asm_small_WIDs= [l.strip() for l in f.readlines()]\n",
    "print(asm_small_WIDs)"
   ]
  },
  {
   "cell_type": "code",
   "execution_count": 24,
   "id": "d11e6a95",
   "metadata": {},
   "outputs": [
    {
     "name": "stdout",
     "output_type": "stream",
     "text": [
      "['358ae0a1-b76b-44ca-9714-64806724e868', 'c1cc1bde-4e34-49be-ad7c-ad2806887cc8', 'df3636ef-5815-45fa-aac6-4ba79c2a1c03']\n"
     ]
    },
    {
     "name": "stderr",
     "output_type": "stream",
     "text": [
      "Fetched runtime table.\n",
      "Fetched runtime table.\n",
      "Fetched runtime table.\n",
      "Fetched runtime table.\n",
      "Fetched runtime table.\n",
      "Fetched runtime table.\n",
      "Fetched runtime table.\n",
      "Fetched metadata table\n",
      "Fetched metadata table\n",
      "Fetched metadata table\n",
      "Fetched metadata table\n",
      "Fetched metadata table\n",
      "Fetched metadata table\n",
      "Fetched metadata table\n",
      "Metadata and runtime number of rows are different. You might want to check.\n",
      "Metadata and runtime number of rows are different. You might want to check.\n",
      "Metadata and runtime number of rows are different. You might want to check.\n",
      "Metadata and runtime number of rows are different. You might want to check.\n",
      "Metadata and runtime number of rows are different. You might want to check.\n",
      "Metadata and runtime number of rows are different. You might want to check.\n",
      "Metadata and runtime number of rows are different. You might want to check.\n",
      "Nrows of runtime: 18, Ncols of runtime: 15, \n",
      "Nrows of meta: 22, Ncols of meta: 20\n",
      "Nrows of runtime: 18, Ncols of runtime: 15, \n",
      "Nrows of meta: 22, Ncols of meta: 20\n",
      "Nrows of runtime: 18, Ncols of runtime: 15, \n",
      "Nrows of meta: 22, Ncols of meta: 20\n",
      "Nrows of runtime: 18, Ncols of runtime: 15, \n",
      "Nrows of meta: 22, Ncols of meta: 20\n",
      "Nrows of runtime: 18, Ncols of runtime: 15, \n",
      "Nrows of meta: 22, Ncols of meta: 20\n",
      "Nrows of runtime: 18, Ncols of runtime: 15, \n",
      "Nrows of meta: 22, Ncols of meta: 20\n",
      "Nrows of runtime: 18, Ncols of runtime: 15, \n",
      "Nrows of meta: 22, Ncols of meta: 20\n",
      "Started querying metrics on 21:07:15.\n",
      "Started querying metrics on 21:07:15.\n",
      "Started querying metrics on 21:07:15.\n",
      "Started querying metrics on 21:07:15.\n",
      "Started querying metrics on 21:07:15.\n",
      "Started querying metrics on 21:07:15.\n",
      "Started querying metrics on 21:07:15.\n"
     ]
    },
    {
     "name": "stdout",
     "output_type": "stream",
     "text": [
      "\n"
     ]
    },
    {
     "name": "stderr",
     "output_type": "stream",
     "text": [
      "Finished on 21:07:19.\n",
      "Finished on 21:07:19.\n",
      "Finished on 21:07:19.\n",
      "Finished on 21:07:19.\n",
      "Finished on 21:07:19.\n",
      "Finished on 21:07:19.\n",
      "Finished on 21:07:19.\n",
      "Totalling 00:00:04.\n",
      "Totalling 00:00:04.\n",
      "Totalling 00:00:04.\n",
      "Totalling 00:00:04.\n",
      "Totalling 00:00:04.\n",
      "Totalling 00:00:04.\n",
      "Totalling 00:00:04.\n",
      "Not all VMs provisioned have their metrics sent over ({1649443834895057536, 5717816116716257097, 967303496718141914, 6806849287010401975, 751105932643060186, 2900420353402653146, 7141424774057609690, 1654467413328059449} didn't).\n",
      "Not all VMs provisioned have their metrics sent over ({1649443834895057536, 5717816116716257097, 967303496718141914, 6806849287010401975, 751105932643060186, 2900420353402653146, 7141424774057609690, 1654467413328059449} didn't).\n",
      "Not all VMs provisioned have their metrics sent over ({1649443834895057536, 5717816116716257097, 967303496718141914, 6806849287010401975, 751105932643060186, 2900420353402653146, 7141424774057609690, 1654467413328059449} didn't).\n",
      "Not all VMs provisioned have their metrics sent over ({1649443834895057536, 5717816116716257097, 967303496718141914, 6806849287010401975, 751105932643060186, 2900420353402653146, 7141424774057609690, 1654467413328059449} didn't).\n",
      "Not all VMs provisioned have their metrics sent over ({1649443834895057536, 5717816116716257097, 967303496718141914, 6806849287010401975, 751105932643060186, 2900420353402653146, 7141424774057609690, 1654467413328059449} didn't).\n",
      "Not all VMs provisioned have their metrics sent over ({1649443834895057536, 5717816116716257097, 967303496718141914, 6806849287010401975, 751105932643060186, 2900420353402653146, 7141424774057609690, 1654467413328059449} didn't).\n",
      "Not all VMs provisioned have their metrics sent over ({1649443834895057536, 5717816116716257097, 967303496718141914, 6806849287010401975, 751105932643060186, 2900420353402653146, 7141424774057609690, 1654467413328059449} didn't).\n"
     ]
    }
   ],
   "source": [
    "query_for_a_run(asm_small_WIDs, 'ASM_small')"
   ]
  },
  {
   "cell_type": "markdown",
   "id": "6d8b9af0",
   "metadata": {},
   "source": [
    "# ASM_medium_final"
   ]
  },
  {
   "cell_type": "code",
   "execution_count": 25,
   "id": "f31ea0fb",
   "metadata": {},
   "outputs": [
    {
     "name": "stdout",
     "output_type": "stream",
     "text": [
      "['01ed50b8-5d9e-4829-889d-07355190de1e', '6c407136-1e62-428f-97eb-d9d21d739625', 'fc49a989-24d2-46bc-a0e3-1fafcde14ef4']\n"
     ]
    }
   ],
   "source": [
    "asm_medium_WIDs = list()\n",
    "with open('slim_metadata/ASM_medium_final.workflow-ids.all.txt') as f:\n",
    "    asm_medium_WIDs= [l.strip() for l in f.readlines()]\n",
    "print(asm_medium_WIDs)"
   ]
  },
  {
   "cell_type": "code",
   "execution_count": 26,
   "id": "cbe9f624",
   "metadata": {},
   "outputs": [
    {
     "name": "stdout",
     "output_type": "stream",
     "text": [
      "['01ed50b8-5d9e-4829-889d-07355190de1e', '6c407136-1e62-428f-97eb-d9d21d739625', 'fc49a989-24d2-46bc-a0e3-1fafcde14ef4']\n"
     ]
    },
    {
     "name": "stderr",
     "output_type": "stream",
     "text": [
      "Fetched runtime table.\n",
      "Fetched runtime table.\n",
      "Fetched runtime table.\n",
      "Fetched runtime table.\n",
      "Fetched runtime table.\n",
      "Fetched runtime table.\n",
      "Fetched runtime table.\n",
      "Fetched runtime table.\n",
      "Fetched metadata table\n",
      "Fetched metadata table\n",
      "Fetched metadata table\n",
      "Fetched metadata table\n",
      "Fetched metadata table\n",
      "Fetched metadata table\n",
      "Fetched metadata table\n",
      "Fetched metadata table\n",
      "Metadata and runtime number of rows are different. You might want to check.\n",
      "Metadata and runtime number of rows are different. You might want to check.\n",
      "Metadata and runtime number of rows are different. You might want to check.\n",
      "Metadata and runtime number of rows are different. You might want to check.\n",
      "Metadata and runtime number of rows are different. You might want to check.\n",
      "Metadata and runtime number of rows are different. You might want to check.\n",
      "Metadata and runtime number of rows are different. You might want to check.\n",
      "Metadata and runtime number of rows are different. You might want to check.\n",
      "Nrows of runtime: 19, Ncols of runtime: 15, \n",
      "Nrows of meta: 23, Ncols of meta: 20\n",
      "Nrows of runtime: 19, Ncols of runtime: 15, \n",
      "Nrows of meta: 23, Ncols of meta: 20\n",
      "Nrows of runtime: 19, Ncols of runtime: 15, \n",
      "Nrows of meta: 23, Ncols of meta: 20\n",
      "Nrows of runtime: 19, Ncols of runtime: 15, \n",
      "Nrows of meta: 23, Ncols of meta: 20\n",
      "Nrows of runtime: 19, Ncols of runtime: 15, \n",
      "Nrows of meta: 23, Ncols of meta: 20\n",
      "Nrows of runtime: 19, Ncols of runtime: 15, \n",
      "Nrows of meta: 23, Ncols of meta: 20\n",
      "Nrows of runtime: 19, Ncols of runtime: 15, \n",
      "Nrows of meta: 23, Ncols of meta: 20\n",
      "Nrows of runtime: 19, Ncols of runtime: 15, \n",
      "Nrows of meta: 23, Ncols of meta: 20\n",
      "Started querying metrics on 21:07:56.\n",
      "Started querying metrics on 21:07:56.\n",
      "Started querying metrics on 21:07:56.\n",
      "Started querying metrics on 21:07:56.\n",
      "Started querying metrics on 21:07:56.\n",
      "Started querying metrics on 21:07:56.\n",
      "Started querying metrics on 21:07:56.\n",
      "Started querying metrics on 21:07:56.\n"
     ]
    },
    {
     "name": "stdout",
     "output_type": "stream",
     "text": [
      "\n"
     ]
    },
    {
     "name": "stderr",
     "output_type": "stream",
     "text": [
      "Finished on 21:08:15.\n",
      "Finished on 21:08:15.\n",
      "Finished on 21:08:15.\n",
      "Finished on 21:08:15.\n",
      "Finished on 21:08:15.\n",
      "Finished on 21:08:15.\n",
      "Finished on 21:08:15.\n",
      "Finished on 21:08:15.\n",
      "Totalling 00:00:18.\n",
      "Totalling 00:00:18.\n",
      "Totalling 00:00:18.\n",
      "Totalling 00:00:18.\n",
      "Totalling 00:00:18.\n",
      "Totalling 00:00:18.\n",
      "Totalling 00:00:18.\n",
      "Totalling 00:00:18.\n",
      "Not all VMs provisioned have their metrics sent over ({8152887381832262429, 4534217327161403680, 5197538883878807840, 7866855011028855072, 8665367578285205792, 8255305537044900128, 5029900164217946089, 5309323327676929903} didn't).\n",
      "Not all VMs provisioned have their metrics sent over ({8152887381832262429, 4534217327161403680, 5197538883878807840, 7866855011028855072, 8665367578285205792, 8255305537044900128, 5029900164217946089, 5309323327676929903} didn't).\n",
      "Not all VMs provisioned have their metrics sent over ({8152887381832262429, 4534217327161403680, 5197538883878807840, 7866855011028855072, 8665367578285205792, 8255305537044900128, 5029900164217946089, 5309323327676929903} didn't).\n",
      "Not all VMs provisioned have their metrics sent over ({8152887381832262429, 4534217327161403680, 5197538883878807840, 7866855011028855072, 8665367578285205792, 8255305537044900128, 5029900164217946089, 5309323327676929903} didn't).\n",
      "Not all VMs provisioned have their metrics sent over ({8152887381832262429, 4534217327161403680, 5197538883878807840, 7866855011028855072, 8665367578285205792, 8255305537044900128, 5029900164217946089, 5309323327676929903} didn't).\n",
      "Not all VMs provisioned have their metrics sent over ({8152887381832262429, 4534217327161403680, 5197538883878807840, 7866855011028855072, 8665367578285205792, 8255305537044900128, 5029900164217946089, 5309323327676929903} didn't).\n",
      "Not all VMs provisioned have their metrics sent over ({8152887381832262429, 4534217327161403680, 5197538883878807840, 7866855011028855072, 8665367578285205792, 8255305537044900128, 5029900164217946089, 5309323327676929903} didn't).\n",
      "Not all VMs provisioned have their metrics sent over ({8152887381832262429, 4534217327161403680, 5197538883878807840, 7866855011028855072, 8665367578285205792, 8255305537044900128, 5029900164217946089, 5309323327676929903} didn't).\n"
     ]
    }
   ],
   "source": [
    "query_for_a_run(asm_medium_WIDs, 'ASM_medium')"
   ]
  },
  {
   "cell_type": "markdown",
   "id": "78e2c332",
   "metadata": {},
   "source": [
    "# ASM_large_final"
   ]
  },
  {
   "cell_type": "code",
   "execution_count": 27,
   "id": "ea6bd340",
   "metadata": {},
   "outputs": [
    {
     "name": "stdout",
     "output_type": "stream",
     "text": [
      "['1850eaea-4669-4453-9f83-9d6587975898', '22137af3-5b44-4743-b014-71ba101abe6b', 'c144b3c4-334c-48b3-9531-20feacb4eaa9']\n"
     ]
    }
   ],
   "source": [
    "asm_large_WIDs = list()\n",
    "with open('slim_metadata/ASM_large_final.workflow-ids.all.txt') as f:\n",
    "    asm_large_WIDs= [l.strip() for l in f.readlines()]\n",
    "print(asm_large_WIDs)"
   ]
  },
  {
   "cell_type": "code",
   "execution_count": 28,
   "id": "5c86d1eb",
   "metadata": {},
   "outputs": [
    {
     "name": "stdout",
     "output_type": "stream",
     "text": [
      "['1850eaea-4669-4453-9f83-9d6587975898', '22137af3-5b44-4743-b014-71ba101abe6b', 'c144b3c4-334c-48b3-9531-20feacb4eaa9']\n"
     ]
    },
    {
     "name": "stderr",
     "output_type": "stream",
     "text": [
      "Fetched runtime table.\n",
      "Fetched runtime table.\n",
      "Fetched runtime table.\n",
      "Fetched runtime table.\n",
      "Fetched runtime table.\n",
      "Fetched runtime table.\n",
      "Fetched runtime table.\n",
      "Fetched runtime table.\n",
      "Fetched runtime table.\n",
      "Fetched metadata table\n",
      "Fetched metadata table\n",
      "Fetched metadata table\n",
      "Fetched metadata table\n",
      "Fetched metadata table\n",
      "Fetched metadata table\n",
      "Fetched metadata table\n",
      "Fetched metadata table\n",
      "Fetched metadata table\n",
      "Metadata and runtime number of rows are different. You might want to check.\n",
      "Metadata and runtime number of rows are different. You might want to check.\n",
      "Metadata and runtime number of rows are different. You might want to check.\n",
      "Metadata and runtime number of rows are different. You might want to check.\n",
      "Metadata and runtime number of rows are different. You might want to check.\n",
      "Metadata and runtime number of rows are different. You might want to check.\n",
      "Metadata and runtime number of rows are different. You might want to check.\n",
      "Metadata and runtime number of rows are different. You might want to check.\n",
      "Metadata and runtime number of rows are different. You might want to check.\n",
      "Nrows of runtime: 19, Ncols of runtime: 15, \n",
      "Nrows of meta: 23, Ncols of meta: 20\n",
      "Nrows of runtime: 19, Ncols of runtime: 15, \n",
      "Nrows of meta: 23, Ncols of meta: 20\n",
      "Nrows of runtime: 19, Ncols of runtime: 15, \n",
      "Nrows of meta: 23, Ncols of meta: 20\n",
      "Nrows of runtime: 19, Ncols of runtime: 15, \n",
      "Nrows of meta: 23, Ncols of meta: 20\n",
      "Nrows of runtime: 19, Ncols of runtime: 15, \n",
      "Nrows of meta: 23, Ncols of meta: 20\n",
      "Nrows of runtime: 19, Ncols of runtime: 15, \n",
      "Nrows of meta: 23, Ncols of meta: 20\n",
      "Nrows of runtime: 19, Ncols of runtime: 15, \n",
      "Nrows of meta: 23, Ncols of meta: 20\n",
      "Nrows of runtime: 19, Ncols of runtime: 15, \n",
      "Nrows of meta: 23, Ncols of meta: 20\n",
      "Nrows of runtime: 19, Ncols of runtime: 15, \n",
      "Nrows of meta: 23, Ncols of meta: 20\n",
      "Started querying metrics on 21:08:33.\n",
      "Started querying metrics on 21:08:33.\n",
      "Started querying metrics on 21:08:33.\n",
      "Started querying metrics on 21:08:33.\n",
      "Started querying metrics on 21:08:33.\n",
      "Started querying metrics on 21:08:33.\n",
      "Started querying metrics on 21:08:33.\n",
      "Started querying metrics on 21:08:33.\n",
      "Started querying metrics on 21:08:33.\n"
     ]
    },
    {
     "name": "stdout",
     "output_type": "stream",
     "text": [
      "\n"
     ]
    },
    {
     "name": "stderr",
     "output_type": "stream",
     "text": [
      "Finished on 21:08:53.\n",
      "Finished on 21:08:53.\n",
      "Finished on 21:08:53.\n",
      "Finished on 21:08:53.\n",
      "Finished on 21:08:53.\n",
      "Finished on 21:08:53.\n",
      "Finished on 21:08:53.\n",
      "Finished on 21:08:53.\n",
      "Finished on 21:08:53.\n",
      "Totalling 00:00:19.\n",
      "Totalling 00:00:19.\n",
      "Totalling 00:00:19.\n",
      "Totalling 00:00:19.\n",
      "Totalling 00:00:19.\n",
      "Totalling 00:00:19.\n",
      "Totalling 00:00:19.\n",
      "Totalling 00:00:19.\n",
      "Totalling 00:00:19.\n",
      "Not all VMs provisioned have their metrics sent over ({970310227228415178, 94250719772915564, 132530955828089686, 1421099313032876887, 1576052047921302936, 6931321790050358102, 7498956238531612056, 5464028212887795354} didn't).\n",
      "Not all VMs provisioned have their metrics sent over ({970310227228415178, 94250719772915564, 132530955828089686, 1421099313032876887, 1576052047921302936, 6931321790050358102, 7498956238531612056, 5464028212887795354} didn't).\n",
      "Not all VMs provisioned have their metrics sent over ({970310227228415178, 94250719772915564, 132530955828089686, 1421099313032876887, 1576052047921302936, 6931321790050358102, 7498956238531612056, 5464028212887795354} didn't).\n",
      "Not all VMs provisioned have their metrics sent over ({970310227228415178, 94250719772915564, 132530955828089686, 1421099313032876887, 1576052047921302936, 6931321790050358102, 7498956238531612056, 5464028212887795354} didn't).\n",
      "Not all VMs provisioned have their metrics sent over ({970310227228415178, 94250719772915564, 132530955828089686, 1421099313032876887, 1576052047921302936, 6931321790050358102, 7498956238531612056, 5464028212887795354} didn't).\n",
      "Not all VMs provisioned have their metrics sent over ({970310227228415178, 94250719772915564, 132530955828089686, 1421099313032876887, 1576052047921302936, 6931321790050358102, 7498956238531612056, 5464028212887795354} didn't).\n",
      "Not all VMs provisioned have their metrics sent over ({970310227228415178, 94250719772915564, 132530955828089686, 1421099313032876887, 1576052047921302936, 6931321790050358102, 7498956238531612056, 5464028212887795354} didn't).\n",
      "Not all VMs provisioned have their metrics sent over ({970310227228415178, 94250719772915564, 132530955828089686, 1421099313032876887, 1576052047921302936, 6931321790050358102, 7498956238531612056, 5464028212887795354} didn't).\n",
      "Not all VMs provisioned have their metrics sent over ({970310227228415178, 94250719772915564, 132530955828089686, 1421099313032876887, 1576052047921302936, 6931321790050358102, 7498956238531612056, 5464028212887795354} didn't).\n"
     ]
    }
   ],
   "source": [
    "query_for_a_run(asm_large_WIDs, 'ASM_large')"
   ]
  },
  {
   "cell_type": "code",
   "execution_count": null,
   "id": "9f383d74",
   "metadata": {},
   "outputs": [],
   "source": []
  },
  {
   "cell_type": "code",
   "execution_count": null,
   "id": "95184126",
   "metadata": {},
   "outputs": [],
   "source": []
  }
 ],
 "metadata": {
  "kernelspec": {
   "display_name": "Python 3 (ipykernel)",
   "language": "python",
   "name": "python3"
  },
  "language_info": {
   "codemirror_mode": {
    "name": "ipython",
    "version": 3
   },
   "file_extension": ".py",
   "mimetype": "text/x-python",
   "name": "python",
   "nbconvert_exporter": "python",
   "pygments_lexer": "ipython3",
   "version": "3.7.7"
  },
  "varInspector": {
   "cols": {
    "lenName": 16,
    "lenType": 16,
    "lenVar": 40
   },
   "kernels_config": {
    "python": {
     "delete_cmd_postfix": "",
     "delete_cmd_prefix": "del ",
     "library": "var_list.py",
     "varRefreshCmd": "print(var_dic_list())"
    },
    "r": {
     "delete_cmd_postfix": ") ",
     "delete_cmd_prefix": "rm(",
     "library": "var_list.r",
     "varRefreshCmd": "cat(var_dic_list()) "
    }
   },
   "types_to_exclude": [
    "module",
    "function",
    "builtin_function_or_method",
    "instance",
    "_Feature"
   ],
   "window_display": false
  }
 },
 "nbformat": 4,
 "nbformat_minor": 5
}
